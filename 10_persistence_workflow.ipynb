{
 "cells": [
  {
   "cell_type": "code",
   "execution_count": 1,
   "id": "6c47467c",
   "metadata": {},
   "outputs": [],
   "source": [
    "from langgraph.graph import START, END, StateGraph\n",
    "from typing import TypedDict\n",
    "from langchain_google_genai import ChatGoogleGenerativeAI\n",
    "from langgraph.checkpoint.memory import InMemorySaver\n",
    "from dotenv import load_dotenv"
   ]
  },
  {
   "cell_type": "code",
   "execution_count": 2,
   "id": "4cbb403d",
   "metadata": {},
   "outputs": [
    {
     "data": {
      "text/plain": [
       "True"
      ]
     },
     "execution_count": 2,
     "metadata": {},
     "output_type": "execute_result"
    }
   ],
   "source": [
    "load_dotenv()"
   ]
  },
  {
   "cell_type": "code",
   "execution_count": 3,
   "id": "cbfb4578",
   "metadata": {},
   "outputs": [],
   "source": [
    "llm = ChatGoogleGenerativeAI(model=\"gemini-2.0-flash\")"
   ]
  },
  {
   "cell_type": "code",
   "execution_count": 4,
   "id": "b97588a7",
   "metadata": {},
   "outputs": [
    {
     "data": {
      "text/plain": [
       "AIMessage(content='Hello there! How can I help you today?', additional_kwargs={}, response_metadata={'prompt_feedback': {'block_reason': 0, 'safety_ratings': []}, 'finish_reason': 'STOP', 'model_name': 'gemini-2.0-flash', 'safety_ratings': []}, id='run--e52f6469-aab4-4dd6-ab23-9d00df604d30-0', usage_metadata={'input_tokens': 1, 'output_tokens': 11, 'total_tokens': 12, 'input_token_details': {'cache_read': 0}})"
      ]
     },
     "execution_count": 4,
     "metadata": {},
     "output_type": "execute_result"
    }
   ],
   "source": [
    "llm.invoke(\"hello\")"
   ]
  },
  {
   "cell_type": "code",
   "execution_count": 5,
   "id": "76831162",
   "metadata": {},
   "outputs": [],
   "source": [
    "class JokeState(TypedDict):\n",
    "    topic: str\n",
    "    joke: str\n",
    "    explanation: str"
   ]
  },
  {
   "cell_type": "code",
   "execution_count": 6,
   "id": "42f2c645",
   "metadata": {},
   "outputs": [],
   "source": [
    "def generate_joke(state: JokeState):\n",
    "\n",
    "    prompt = f'generate a joke on the topic {state[\"topic\"]}'\n",
    "    response = llm.invoke(prompt).content\n",
    "\n",
    "    return {\"joke\": response}"
   ]
  },
  {
   "cell_type": "code",
   "execution_count": null,
   "id": "16966b23",
   "metadata": {},
   "outputs": [],
   "source": [
    "def generate_explanation(state: JokeState):\n",
    "\n",
    "    prompt = f'write an explanation for the joke - {state[\"joke\"]}'\n",
    "    response = llm.invoke(prompt).content\n",
    "\n",
    "    return {\"explanation\": response}"
   ]
  },
  {
   "cell_type": "code",
   "execution_count": null,
   "id": "c8dab94f",
   "metadata": {},
   "outputs": [
    {
     "data": {
      "image/png": "[encoded data removed]",
      "text/plain": [
       "<langgraph.graph.state.CompiledStateGraph object at 0x0000023D9F58B6B0>"
      ]
     },
     "execution_count": 8,
     "metadata": {},
     "output_type": "execute_result"
    }
   ],
   "source": [
    "graph = StateGraph(JokeState)\n",
    "\n",
    "graph.add_node(\"generate_joke\", generate_joke)\n",
    "graph.add_node(\"generate_explanation\", generate_explanation)\n",
    "\n",
    "graph.add_edge(START, \"generate_joke\")\n",
    "graph.add_edge(\"generate_joke\", \"generate_explanation\")\n",
    "graph.add_edge(\"generate_explanation\", END)\n",
    "\n",
    "checkpointer = InMemorySaver()\n",
    "\n",
    "workflow = graph.compile(checkpointer=checkpointer)\n",
    "\n",
    "workflow"
   ]
  },
  {
   "cell_type": "code",
   "execution_count": null,
   "id": "25022f17",
   "metadata": {},
   "outputs": [
    {
     "data": {
      "text/plain": [
       "{'topic': 'pizza',\n",
       " 'joke': 'Why did the pizza maker quit his job? \\n\\nHe said he was tired of getting dough!',\n",
       " 'explanation': 'The joke plays on the double meaning of the word \"dough.\"\\n\\n*   **Literal meaning:** \"Dough\" refers to the uncooked mixture of flour, water, and other ingredients that is used to make pizza crust. Pizza makers handle dough all day as part of their job.\\n*   **Figurative meaning (slang):** \"Dough\" is also a slang term for money.\\n\\nThe humor comes from the pizza maker saying he\\'s tired of handling pizza dough (literal), but the audience immediately understands that he\\'s also implying he\\'s tired of not making enough money (figurative). It\\'s a pun, using one word to create two different, but related, meanings. The unexpected second meaning is what makes the joke funny.'}"
      ]
     },
     "execution_count": 9,
     "metadata": {},
     "output_type": "execute_result"
    }
   ],
   "source": [
    "config1 = {\"configurable\": {\"thread_id\": \"1\"}}\n",
    "workflow.invoke({\"topic\": \"pizza\"}, config=config1)"
   ]
  },
  {
   "cell_type": "code",
   "execution_count": 10,
   "id": "d6e13005",
   "metadata": {},
   "outputs": [
    {
     "data": {
      "text/plain": [
       "StateSnapshot(values={'topic': 'pizza', 'joke': 'Why did the pizza maker quit his job? \\n\\nHe said he was tired of getting dough!', 'explanation': 'The joke plays on the double meaning of the word \"dough.\"\\n\\n*   **Literal meaning:** \"Dough\" refers to the uncooked mixture of flour, water, and other ingredients that is used to make pizza crust. Pizza makers handle dough all day as part of their job.\\n*   **Figurative meaning (slang):** \"Dough\" is also a slang term for money.\\n\\nThe humor comes from the pizza maker saying he\\'s tired of handling pizza dough (literal), but the audience immediately understands that he\\'s also implying he\\'s tired of not making enough money (figurative). It\\'s a pun, using one word to create two different, but related, meanings. The unexpected second meaning is what makes the joke funny.'}, next=(), config={'configurable': {'thread_id': '1', 'checkpoint_ns': '', 'checkpoint_id': '1f077a8c-68fd-6153-8002-114e9ac7a5ba'}}, metadata={'source': 'loop', 'step': 2, 'parents': {}}, created_at='2025-08-12T18:18:41.801045+00:00', parent_config={'configurable': {'thread_id': '1', 'checkpoint_ns': '', 'checkpoint_id': '1f077a8c-45d9-6aa2-8001-d691bd9b6298'}}, tasks=(), interrupts=())"
      ]
     },
     "execution_count": 10,
     "metadata": {},
     "output_type": "execute_result"
    }
   ],
   "source": [
    "workflow.get_state(config=config1)"
   ]
  },
  {
   "cell_type": "code",
   "execution_count": 11,
   "id": "a30b77b9",
   "metadata": {},
   "outputs": [
    {
     "data": {
      "text/plain": [
       "[StateSnapshot(values={'topic': 'pizza', 'joke': 'Why did the pizza maker quit his job? \\n\\nHe said he was tired of getting dough!', 'explanation': 'The joke plays on the double meaning of the word \"dough.\"\\n\\n*   **Literal meaning:** \"Dough\" refers to the uncooked mixture of flour, water, and other ingredients that is used to make pizza crust. Pizza makers handle dough all day as part of their job.\\n*   **Figurative meaning (slang):** \"Dough\" is also a slang term for money.\\n\\nThe humor comes from the pizza maker saying he\\'s tired of handling pizza dough (literal), but the audience immediately understands that he\\'s also implying he\\'s tired of not making enough money (figurative). It\\'s a pun, using one word to create two different, but related, meanings. The unexpected second meaning is what makes the joke funny.'}, next=(), config={'configurable': {'thread_id': '1', 'checkpoint_ns': '', 'checkpoint_id': '1f077a8c-68fd-6153-8002-114e9ac7a5ba'}}, metadata={'source': 'loop', 'step': 2, 'parents': {}}, created_at='2025-08-12T18:18:41.801045+00:00', parent_config={'configurable': {'thread_id': '1', 'checkpoint_ns': '', 'checkpoint_id': '1f077a8c-45d9-6aa2-8001-d691bd9b6298'}}, tasks=(), interrupts=()),\n",
       " StateSnapshot(values={'topic': 'pizza', 'joke': 'Why did the pizza maker quit his job? \\n\\nHe said he was tired of getting dough!'}, next=('generate_explanation',), config={'configurable': {'thread_id': '1', 'checkpoint_ns': '', 'checkpoint_id': '1f077a8c-45d9-6aa2-8001-d691bd9b6298'}}, metadata={'source': 'loop', 'step': 1, 'parents': {}}, created_at='2025-08-12T18:18:38.116521+00:00', parent_config={'configurable': {'thread_id': '1', 'checkpoint_ns': '', 'checkpoint_id': '1f077a8c-37e2-6d67-8000-776e19a9b24f'}}, tasks=(PregelTask(id='a6f453a2-4e1a-5685-a7b5-03ffc8286637', name='generate_explanation', path=('__pregel_pull', 'generate_explanation'), error=None, interrupts=(), state=None, result={'explanation': 'The joke plays on the double meaning of the word \"dough.\"\\n\\n*   **Literal meaning:** \"Dough\" refers to the uncooked mixture of flour, water, and other ingredients that is used to make pizza crust. Pizza makers handle dough all day as part of their job.\\n*   **Figurative meaning (slang):** \"Dough\" is also a slang term for money.\\n\\nThe humor comes from the pizza maker saying he\\'s tired of handling pizza dough (literal), but the audience immediately understands that he\\'s also implying he\\'s tired of not making enough money (figurative). It\\'s a pun, using one word to create two different, but related, meanings. The unexpected second meaning is what makes the joke funny.'}),), interrupts=()),\n",
       " StateSnapshot(values={'topic': 'pizza'}, next=('generate_joke',), config={'configurable': {'thread_id': '1', 'checkpoint_ns': '', 'checkpoint_id': '1f077a8c-37e2-6d67-8000-776e19a9b24f'}}, metadata={'source': 'loop', 'step': 0, 'parents': {}}, created_at='2025-08-12T18:18:36.652272+00:00', parent_config={'configurable': {'thread_id': '1', 'checkpoint_ns': '', 'checkpoint_id': '1f077a8c-37cb-6ee1-bfff-672967f7f9e3'}}, tasks=(PregelTask(id='bd2618df-d14d-0664-8811-dfb512beb7e7', name='generate_joke', path=('__pregel_pull', 'generate_joke'), error=None, interrupts=(), state=None, result={'joke': 'Why did the pizza maker quit his job? \\n\\nHe said he was tired of getting dough!'}),), interrupts=()),\n",
       " StateSnapshot(values={}, next=('__start__',), config={'configurable': {'thread_id': '1', 'checkpoint_ns': '', 'checkpoint_id': '1f077a8c-37cb-6ee1-bfff-672967f7f9e3'}}, metadata={'source': 'input', 'step': -1, 'parents': {}}, created_at='2025-08-12T18:18:36.642889+00:00', parent_config=None, tasks=(PregelTask(id='05b7f405-4495-1998-6c6c-fbe39d496049', name='__start__', path=('__pregel_pull', '__start__'), error=None, interrupts=(), state=None, result={'topic': 'pizza'}),), interrupts=())]"
      ]
     },
     "execution_count": 11,
     "metadata": {},
     "output_type": "execute_result"
    }
   ],
   "source": [
    "list(workflow.get_state_history(config1))"
   ]
  },
  {
   "cell_type": "code",
   "execution_count": null,
   "id": "a90f0234",
   "metadata": {},
   "outputs": [
    {
     "data": {
      "text/plain": [
       "{'topic': 'pasta',\n",
       " 'joke': \"Why did the spaghetti break up with the meatball?\\n\\nBecause he was too clingy! He just wouldn't let her get past-a him!\",\n",
       " 'explanation': 'Okay, let\\'s break down the spaghetti breakup joke:\\n\\n*   **The Setup:** The joke sets up a scenario where spaghetti and a meatball are in a relationship, which is already a bit humorous because they are food items.\\n\\n*   **The Punchline - \"Because he was too clingy!\"** This is the first layer of humor. Meatballs are often served *on top* of spaghetti. So the joke personifies this as the meatball being overly attached to the spaghetti.\\n\\n*   **The Second Punchline - \"He just wouldn\\'t let her get past-a him!\"** This is where the wordplay and deeper humor come in. It\\'s a pun playing on the word \"past\" and \"pasta\" (spaghetti is a type of pasta). The meatball, being \"clingy,\" is literally blocking the spaghetti from moving forward or moving *past* him. The pun reinforces the idea that he\\'s not letting her move on in their relationship, but uses food terminology to make it funny.'}"
      ]
     },
     "execution_count": 12,
     "metadata": {},
     "output_type": "execute_result"
    }
   ],
   "source": [
    "config2 = {\"configurable\": {\"thread_id\": \"2\"}}\n",
    "workflow.invoke({\"topic\": \"pasta\"}, config=config2)"
   ]
  },
  {
   "cell_type": "code",
   "execution_count": 13,
   "id": "70e5d22c",
   "metadata": {},
   "outputs": [
    {
     "data": {
      "text/plain": [
       "StateSnapshot(values={'topic': 'pasta', 'joke': \"Why did the spaghetti break up with the meatball?\\n\\nBecause he was too clingy! He just wouldn't let her get past-a him!\", 'explanation': 'Okay, let\\'s break down the spaghetti breakup joke:\\n\\n*   **The Setup:** The joke sets up a scenario where spaghetti and a meatball are in a relationship, which is already a bit humorous because they are food items.\\n\\n*   **The Punchline - \"Because he was too clingy!\"** This is the first layer of humor. Meatballs are often served *on top* of spaghetti. So the joke personifies this as the meatball being overly attached to the spaghetti.\\n\\n*   **The Second Punchline - \"He just wouldn\\'t let her get past-a him!\"** This is where the wordplay and deeper humor come in. It\\'s a pun playing on the word \"past\" and \"pasta\" (spaghetti is a type of pasta). The meatball, being \"clingy,\" is literally blocking the spaghetti from moving forward or moving *past* him. The pun reinforces the idea that he\\'s not letting her move on in their relationship, but uses food terminology to make it funny.'}, next=(), config={'configurable': {'thread_id': '2', 'checkpoint_ns': '', 'checkpoint_id': '1f077a8c-9b37-606b-8002-5568ff915bb5'}}, metadata={'source': 'loop', 'step': 2, 'parents': {}}, created_at='2025-08-12T18:18:47.067658+00:00', parent_config={'configurable': {'thread_id': '2', 'checkpoint_ns': '', 'checkpoint_id': '1f077a8c-76fe-64d1-8001-f8d0f3ea537a'}}, tasks=(), interrupts=())"
      ]
     },
     "execution_count": 13,
     "metadata": {},
     "output_type": "execute_result"
    }
   ],
   "source": [
    "workflow.get_state(config2)"
   ]
  },
  {
   "cell_type": "code",
   "execution_count": null,
   "id": "c92add9d",
   "metadata": {},
   "outputs": [
    {
     "data": {
      "text/plain": [
       "[StateSnapshot(values={'topic': 'pasta', 'joke': \"Why did the spaghetti break up with the meatball?\\n\\nBecause he was too clingy! He just wouldn't let her get past-a him!\", 'explanation': 'Okay, let\\'s break down the spaghetti breakup joke:\\n\\n*   **The Setup:** The joke sets up a scenario where spaghetti and a meatball are in a relationship, which is already a bit humorous because they are food items.\\n\\n*   **The Punchline - \"Because he was too clingy!\"** This is the first layer of humor. Meatballs are often served *on top* of spaghetti. So the joke personifies this as the meatball being overly attached to the spaghetti.\\n\\n*   **The Second Punchline - \"He just wouldn\\'t let her get past-a him!\"** This is where the wordplay and deeper humor come in. It\\'s a pun playing on the word \"past\" and \"pasta\" (spaghetti is a type of pasta). The meatball, being \"clingy,\" is literally blocking the spaghetti from moving forward or moving *past* him. The pun reinforces the idea that he\\'s not letting her move on in their relationship, but uses food terminology to make it funny.'}, next=(), config={'configurable': {'thread_id': '2', 'checkpoint_ns': '', 'checkpoint_id': '1f077a8c-9b37-606b-8002-5568ff915bb5'}}, metadata={'source': 'loop', 'step': 2, 'parents': {}}, created_at='2025-08-12T18:18:47.067658+00:00', parent_config={'configurable': {'thread_id': '2', 'checkpoint_ns': '', 'checkpoint_id': '1f077a8c-76fe-64d1-8001-f8d0f3ea537a'}}, tasks=(), interrupts=()),\n",
       " StateSnapshot(values={'topic': 'pasta', 'joke': \"Why did the spaghetti break up with the meatball?\\n\\nBecause he was too clingy! He just wouldn't let her get past-a him!\"}, next=('generate_explanation',), config={'configurable': {'thread_id': '2', 'checkpoint_ns': '', 'checkpoint_id': '1f077a8c-76fe-64d1-8001-f8d0f3ea537a'}}, metadata={'source': 'loop', 'step': 1, 'parents': {}}, created_at='2025-08-12T18:18:43.269550+00:00', parent_config={'configurable': {'thread_id': '2', 'checkpoint_ns': '', 'checkpoint_id': '1f077a8c-6977-6c15-8000-fdb614736051'}}, tasks=(PregelTask(id='494c0d96-ffa5-98a7-ee75-e8a31a654db2', name='generate_explanation', path=('__pregel_pull', 'generate_explanation'), error=None, interrupts=(), state=None, result={'explanation': 'Okay, let\\'s break down the spaghetti breakup joke:\\n\\n*   **The Setup:** The joke sets up a scenario where spaghetti and a meatball are in a relationship, which is already a bit humorous because they are food items.\\n\\n*   **The Punchline - \"Because he was too clingy!\"** This is the first layer of humor. Meatballs are often served *on top* of spaghetti. So the joke personifies this as the meatball being overly attached to the spaghetti.\\n\\n*   **The Second Punchline - \"He just wouldn\\'t let her get past-a him!\"** This is where the wordplay and deeper humor come in. It\\'s a pun playing on the word \"past\" and \"pasta\" (spaghetti is a type of pasta). The meatball, being \"clingy,\" is literally blocking the spaghetti from moving forward or moving *past* him. The pun reinforces the idea that he\\'s not letting her move on in their relationship, but uses food terminology to make it funny.'}),), interrupts=()),\n",
       " StateSnapshot(values={'topic': 'pasta'}, next=('generate_joke',), config={'configurable': {'thread_id': '2', 'checkpoint_ns': '', 'checkpoint_id': '1f077a8c-6977-6c15-8000-fdb614736051'}}, metadata={'source': 'loop', 'step': 0, 'parents': {}}, created_at='2025-08-12T18:18:41.851291+00:00', parent_config={'configurable': {'thread_id': '2', 'checkpoint_ns': '', 'checkpoint_id': '1f077a8c-6977-6c14-bfff-c94ee602ef98'}}, tasks=(PregelTask(id='8c9af474-512c-0c65-b25a-ff2babdb3893', name='generate_joke', path=('__pregel_pull', 'generate_joke'), error=None, interrupts=(), state=None, result={'joke': \"Why did the spaghetti break up with the meatball?\\n\\nBecause he was too clingy! He just wouldn't let her get past-a him!\"}),), interrupts=()),\n",
       " StateSnapshot(values={}, next=('__start__',), config={'configurable': {'thread_id': '2', 'checkpoint_ns': '', 'checkpoint_id': '1f077a8c-6977-6c14-bfff-c94ee602ef98'}}, metadata={'source': 'input', 'step': -1, 'parents': {}}, created_at='2025-08-12T18:18:41.851291+00:00', parent_config=None, tasks=(PregelTask(id='be238291-0672-6125-0ce1-ccd4a656543a', name='__start__', path=('__pregel_pull', '__start__'), error=None, interrupts=(), state=None, result={'topic': 'pasta'}),), interrupts=())]"
      ]
     },
     "execution_count": 14,
     "metadata": {},
     "output_type": "execute_result"
    }
   ],
   "source": [
    "list(workflow.get_state_history(config2))"
   ]
  },
  {
   "cell_type": "markdown",
   "id": "70727f0c",
   "metadata": {},
   "source": [
    "## Fault Tolerance\n"
   ]
  },
  {
   "cell_type": "code",
   "execution_count": 15,
   "id": "050d908f",
   "metadata": {},
   "outputs": [],
   "source": [
    "import time"
   ]
  },
  {
   "cell_type": "code",
   "execution_count": 16,
   "id": "3e4b0467",
   "metadata": {},
   "outputs": [],
   "source": [
    "# 1. Define the state\n",
    "class CrashState(TypedDict):\n",
    "    input: str\n",
    "    step1: str\n",
    "    step2: str"
   ]
  },
  {
   "cell_type": "code",
   "execution_count": null,
   "id": "b1cd172c",
   "metadata": {},
   "outputs": [],
   "source": [
    "# 2. Define steps\n",
    "def step_1(state: CrashState) -> CrashState:\n",
    "    print(\"✅ Step 1 executed\")\n",
    "    return {\"step1\": \"done\", \"input\": state[\"input\"]}\n",
    "\n",
    "\n",
    "def step_2(state: CrashState) -> CrashState:\n",
    "    print(\n",
    "        \"⏳ Step 2 hanging... now manually interrupt from the notebook toolbar (STOP button)\"\n",
    "    )\n",
    "    time.sleep(1000)  # Simulate long-running hang\n",
    "    return {\"step2\": \"done\"}\n",
    "\n",
    "\n",
    "def step_3(state: CrashState) -> CrashState:\n",
    "    print(\"✅ Step 3 executed\")\n",
    "    return {\"done\": True}"
   ]
  },
  {
   "cell_type": "code",
   "execution_count": 18,
   "id": "72967306",
   "metadata": {},
   "outputs": [],
   "source": [
    "# 3. Build the graph\n",
    "builder = StateGraph(CrashState)\n",
    "builder.add_node(\"step_1\", step_1)\n",
    "builder.add_node(\"step_2\", step_2)\n",
    "builder.add_node(\"step_3\", step_3)\n",
    "\n",
    "builder.set_entry_point(\"step_1\")\n",
    "builder.add_edge(\"step_1\", \"step_2\")\n",
    "builder.add_edge(\"step_2\", \"step_3\")\n",
    "builder.add_edge(\"step_3\", END)\n",
    "\n",
    "checkpointer = InMemorySaver()\n",
    "graph = builder.compile(checkpointer=checkpointer)"
   ]
  },
  {
   "cell_type": "code",
   "execution_count": null,
   "id": "d6d7fe23",
   "metadata": {},
   "outputs": [
    {
     "name": "stdout",
     "output_type": "stream",
     "text": [
      "▶️ Running graph: Please manually interrupt during Step 2...\n",
      "✅ Step 1 executed\n",
      "⏳ Step 2 hanging... now manually interrupt from the notebook toolbar (STOP button)\n"
     ]
    }
   ],
   "source": [
    "try:\n",
    "    print(\"▶️ Running graph: Please manually interrupt during Step 2...\")\n",
    "    graph.invoke({\"input\": \"start\"}, config={\"configurable\": {\"thread_id\": \"thread-1\"}})\n",
    "except KeyboardInterrupt:\n",
    "    print(\"❌ Kernel manually interrupted (crash simulated).\")"
   ]
  },
  {
   "cell_type": "code",
   "execution_count": null,
   "id": "95e592fd",
   "metadata": {},
   "outputs": [],
   "source": [
    "# 6. Re-run to show fault-tolerant resume\n",
    "print(\"\\n🔁 Re-running the graph to demonstrate fault tolerance...\")\n",
    "final_state = graph.invoke(None, config={\"configurable\": {\"thread_id\": \"thread-1\"}})\n",
    "print(\"\\n✅ Final State:\", final_state)"
   ]
  },
  {
   "cell_type": "code",
   "execution_count": null,
   "id": "239993e8",
   "metadata": {},
   "outputs": [],
   "source": [
    "list(graph.get_state_history({\"configurable\": {\"thread_id\": \"thread-1\"}}))"
   ]
  }
 ],
 "metadata": {
  "kernelspec": {
   "display_name": ".venv (3.12.7)",
   "language": "python",
   "name": "python3"
  },
  "language_info": {
   "codemirror_mode": {
    "name": "ipython",
    "version": 3
   },
   "file_extension": ".py",
   "mimetype": "text/x-python",
   "name": "python",
   "nbconvert_exporter": "python",
   "pygments_lexer": "ipython3",
   "version": "3.12.7"
  }
 },
 "nbformat": 4,
 "nbformat_minor": 5
}
